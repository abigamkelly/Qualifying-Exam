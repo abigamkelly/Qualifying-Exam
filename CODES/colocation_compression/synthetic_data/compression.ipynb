{
 "cells": [
  {
   "cell_type": "code",
   "execution_count": 1,
   "id": "da4224d1-3718-4133-bdfe-1b239effafe7",
   "metadata": {},
   "outputs": [],
   "source": [
    "try:\n",
    "    import pandas as pd\n",
    "    import numpy as np\n",
    "    import math\n",
    "    import itertools\n",
    "    import time\n",
    "    from itertools import chain, combinations\n",
    "    import csv\n",
    "    import matplotlib.pyplot as plt\n",
    "    from rtree import index\n",
    "    import bisect\n",
    "    import ctypes\n",
    "except:\n",
    "    !pip install pandas numpy matplotlib scipy rtree"
   ]
  },
  {
   "cell_type": "code",
   "execution_count": 2,
   "id": "046cc496-2636-4df5-860d-a99cca0b09ef",
   "metadata": {},
   "outputs": [],
   "source": [
    "# parameters\n",
    "distance_threshold = 10\n",
    "prevalence_threshold = 0.5"
   ]
  },
  {
   "cell_type": "code",
   "execution_count": 3,
   "id": "a71c6bb6-3d4d-4eee-b6e3-93d3e0d3a9c1",
   "metadata": {},
   "outputs": [],
   "source": [
    "#load data\n",
    "data = pd.read_csv(\"synthetic_data/TestCase1_1.csv\",dtype={'featureType': str})\n",
    "data = data.sort_values(by='featureType', ignore_index=True)"
   ]
  },
  {
   "cell_type": "code",
   "execution_count": 4,
   "id": "2e2710ef-d730-4817-8c30-1dc465c5ee3b",
   "metadata": {},
   "outputs": [
    {
     "data": {
      "text/html": [
       "<div>\n",
       "<style scoped>\n",
       "    .dataframe tbody tr th:only-of-type {\n",
       "        vertical-align: middle;\n",
       "    }\n",
       "\n",
       "    .dataframe tbody tr th {\n",
       "        vertical-align: top;\n",
       "    }\n",
       "\n",
       "    .dataframe thead th {\n",
       "        text-align: right;\n",
       "    }\n",
       "</style>\n",
       "<table border=\"1\" class=\"dataframe\">\n",
       "  <thead>\n",
       "    <tr style=\"text-align: right;\">\n",
       "      <th></th>\n",
       "      <th>featureType</th>\n",
       "      <th>xCoordinate</th>\n",
       "      <th>yCoordinate</th>\n",
       "    </tr>\n",
       "  </thead>\n",
       "  <tbody>\n",
       "    <tr>\n",
       "      <th>0</th>\n",
       "      <td>1</td>\n",
       "      <td>5367.2</td>\n",
       "      <td>8088.7</td>\n",
       "    </tr>\n",
       "    <tr>\n",
       "      <th>1</th>\n",
       "      <td>1</td>\n",
       "      <td>5024.5</td>\n",
       "      <td>2214.5</td>\n",
       "    </tr>\n",
       "    <tr>\n",
       "      <th>2</th>\n",
       "      <td>1</td>\n",
       "      <td>8699.6</td>\n",
       "      <td>5145.2</td>\n",
       "    </tr>\n",
       "    <tr>\n",
       "      <th>3</th>\n",
       "      <td>1</td>\n",
       "      <td>1900.2</td>\n",
       "      <td>6739.2</td>\n",
       "    </tr>\n",
       "    <tr>\n",
       "      <th>4</th>\n",
       "      <td>1</td>\n",
       "      <td>8719.2</td>\n",
       "      <td>2444.2</td>\n",
       "    </tr>\n",
       "    <tr>\n",
       "      <th>...</th>\n",
       "      <td>...</td>\n",
       "      <td>...</td>\n",
       "      <td>...</td>\n",
       "    </tr>\n",
       "    <tr>\n",
       "      <th>160210</th>\n",
       "      <td>9</td>\n",
       "      <td>8237.7</td>\n",
       "      <td>8301.6</td>\n",
       "    </tr>\n",
       "    <tr>\n",
       "      <th>160211</th>\n",
       "      <td>9</td>\n",
       "      <td>3849.7</td>\n",
       "      <td>636.4</td>\n",
       "    </tr>\n",
       "    <tr>\n",
       "      <th>160212</th>\n",
       "      <td>9</td>\n",
       "      <td>34.2</td>\n",
       "      <td>6671.2</td>\n",
       "    </tr>\n",
       "    <tr>\n",
       "      <th>160213</th>\n",
       "      <td>9</td>\n",
       "      <td>8338.6</td>\n",
       "      <td>952.1</td>\n",
       "    </tr>\n",
       "    <tr>\n",
       "      <th>160214</th>\n",
       "      <td>9</td>\n",
       "      <td>1496.2</td>\n",
       "      <td>491.1</td>\n",
       "    </tr>\n",
       "  </tbody>\n",
       "</table>\n",
       "<p>160215 rows × 3 columns</p>\n",
       "</div>"
      ],
      "text/plain": [
       "       featureType  xCoordinate  yCoordinate\n",
       "0                1       5367.2       8088.7\n",
       "1                1       5024.5       2214.5\n",
       "2                1       8699.6       5145.2\n",
       "3                1       1900.2       6739.2\n",
       "4                1       8719.2       2444.2\n",
       "...            ...          ...          ...\n",
       "160210           9       8237.7       8301.6\n",
       "160211           9       3849.7        636.4\n",
       "160212           9         34.2       6671.2\n",
       "160213           9       8338.6        952.1\n",
       "160214           9       1496.2        491.1\n",
       "\n",
       "[160215 rows x 3 columns]"
      ]
     },
     "execution_count": 4,
     "metadata": {},
     "output_type": "execute_result"
    }
   ],
   "source": [
    "data"
   ]
  },
  {
   "cell_type": "code",
   "execution_count": 5,
   "id": "4ba1c2c5-186a-4e1d-9bd4-da18be595f84",
   "metadata": {},
   "outputs": [],
   "source": [
    "star_neighbors = {}  # Dictionary to store neighbors of different types within distance_threshold for each instance"
   ]
  },
  {
   "cell_type": "code",
   "execution_count": 6,
   "id": "4665048a-b98d-438e-8343-768959c6b37b",
   "metadata": {},
   "outputs": [],
   "source": [
    "# Important Variables\n",
    "featureInfo = {}  # Dictionary to store count, start row ID, and end row ID for each feature type\n",
    "instance_table = {}  # Dictionary to store instance table of each candidate colocation pattern may change to only prevalant one later\n",
    "hashmap = {}  # Hashmap to store unique instance ids of each participating feature to calculate PI\n",
    "finalPrevalantPatterns = []"
   ]
  },
  {
   "cell_type": "code",
   "execution_count": 7,
   "id": "7903fa77-bb9f-4c2e-a39c-1f7f638f053d",
   "metadata": {},
   "outputs": [],
   "source": [
    "#utility function\n",
    "# for finding the range of number\n",
    "def findNeighborsInRange(arr, x, y):               #log(n) search\n",
    "    start_index = bisect.bisect_left(arr, x)\n",
    "    end_index = bisect.bisect_right(arr, y)\n",
    "    return arr[start_index:end_index]"
   ]
  },
  {
   "cell_type": "code",
   "execution_count": 8,
   "id": "b618df90-8735-46e3-b6d9-4632f19c0989",
   "metadata": {},
   "outputs": [
    {
     "data": {
      "text/plain": [
       "{'1': {'count': 15195, 'start': 0, 'end': 15194},\n",
       " '10': {'count': 15048, 'start': 15195, 'end': 30242},\n",
       " '11': {'count': 3000, 'start': 30243, 'end': 33242},\n",
       " '12': {'count': 3000, 'start': 33243, 'end': 36242},\n",
       " '13': {'count': 3000, 'start': 36243, 'end': 39242},\n",
       " '2': {'count': 15195, 'start': 39243, 'end': 54437},\n",
       " '3': {'count': 15195, 'start': 54438, 'end': 69632},\n",
       " '4': {'count': 15195, 'start': 69633, 'end': 84827},\n",
       " '5': {'count': 15195, 'start': 84828, 'end': 100022},\n",
       " '6': {'count': 15048, 'start': 100023, 'end': 115070},\n",
       " '7': {'count': 15048, 'start': 115071, 'end': 130118},\n",
       " '8': {'count': 15048, 'start': 130119, 'end': 145166},\n",
       " '9': {'count': 15048, 'start': 145167, 'end': 160214}}"
      ]
     },
     "execution_count": 8,
     "metadata": {},
     "output_type": "execute_result"
    }
   ],
   "source": [
    "# Initialize variables to track count, start row ID, and end row ID\n",
    "count = 0\n",
    "start_row_id = 0\n",
    "prev_feature = None\n",
    "\n",
    "# Iterate through the DataFrame\n",
    "for i, row in data.iterrows():\n",
    "    feature = row['featureType']\n",
    "    \n",
    "    # If feature type changes, update feature_info for the previous feature\n",
    "    if feature != prev_feature:\n",
    "        if prev_feature is not None:\n",
    "            featureInfo[prev_feature] = {'count': count, 'start': start_row_id, 'end': i - 1}\n",
    "        count = 1\n",
    "        start_row_id = i\n",
    "        prev_feature = feature\n",
    "    else:\n",
    "        count += 1\n",
    "\n",
    "# Update feature_info for the last feature\n",
    "if prev_feature is not None:\n",
    "    featureInfo[prev_feature] = {'count': count, 'start': start_row_id, 'end': len(data) - 1}\n",
    "    \n",
    "# Check if the last feature only has one occurrence\n",
    "if prev_feature is not None and count == 1:\n",
    "    featureInfo[prev_feature] = {'count': count, 'start': start_row_id, 'end': start_row_id}\n",
    "\n",
    "featureInfo"
   ]
  },
  {
   "cell_type": "code",
   "execution_count": 9,
   "id": "ccbdda15-158a-45cf-9aa0-d34ada368fd7",
   "metadata": {},
   "outputs": [],
   "source": [
    "# write the featureInfo to a csv file\n",
    "with open('required_files/featureInfo.csv', 'w', newline='') as csvfile:\n",
    "    writer = csv.writer(csvfile)\n",
    "    writer.writerow(['feature', 'count', 'start', 'end'])\n",
    "    for feature, values in featureInfo.items():\n",
    "        writer.writerow([feature, values['count'], values['start'], values['end']])"
   ]
  },
  {
   "cell_type": "code",
   "execution_count": 10,
   "id": "5a652be1-6955-4242-98d1-528c7f6af39e",
   "metadata": {},
   "outputs": [],
   "source": [
    "import math\n",
    "def calc_distance(point1, point2):\n",
    "    x1, y1 = point1['xCoordinate'], point1['yCoordinate']\n",
    "    x2, y2 = point2['xCoordinate'], point2['yCoordinate']\n",
    "    return math.sqrt((x2 - x1)**2 + (y2 - y1)**2)"
   ]
  },
  {
   "cell_type": "code",
   "execution_count": 11,
   "id": "df3ec664-3712-498a-9980-a63754f7127d",
   "metadata": {},
   "outputs": [],
   "source": [
    "# Note: I have to filter the nearby points because rtree does not find points within a distance (circle) is does a square\n",
    "from rtree import index\n",
    "data['xCoordinate'] = data['xCoordinate'].astype(float)\n",
    "data['yCoordinate'] = data['yCoordinate'].astype(float)\n",
    "# Create a spatial index\n",
    "idx = index.Index()\n",
    "# Insert each point into the spatial index with its unique identifier\n",
    "for i, row in data.iterrows():\n",
    "    x_coord = row['xCoordinate']\n",
    "    y_coord = row['yCoordinate']\n",
    "    idx.insert(i, (x_coord, y_coord, x_coord, y_coord))\n",
    "    \n",
    "# Iterate over each row in the DataFrame\n",
    "for i, row in data.iterrows():\n",
    "    row_id = i\n",
    "    feature_type = row['featureType']\n",
    "    x_coord = row['xCoordinate']\n",
    "    y_coord = row['yCoordinate']\n",
    "\n",
    "    # Query the spatial index to find nearby points within the distance threshold\n",
    "    nearby_points = list(idx.intersection((x_coord - distance_threshold, y_coord - distance_threshold, x_coord + distance_threshold, y_coord + distance_threshold)))\n",
    "\n",
    "    # Filter neighbors based on distance and feature type, and ensure they are greater than the key\n",
    "    points_to_add = sorted([j for j in nearby_points if j != row_id and calc_distance(data.loc[j], data.loc[row_id]) <= distance_threshold and data.loc[j, 'featureType'] != feature_type and j > row_id])\n",
    "    # Store the nearby points in the dictionary\n",
    "    star_neighbors[row_id] = points_to_add"
   ]
  },
  {
   "cell_type": "code",
   "execution_count": 12,
   "id": "e4db5ffd-2ef8-4f21-acbf-893fb67b002d",
   "metadata": {},
   "outputs": [],
   "source": [
    "# write the star_neighbor to a csv file\n",
    "with open('required_files/starNeighbors.csv', 'w', newline='') as csvfile:\n",
    "    writer = csv.writer(csvfile)\n",
    "    writer.writerow(['feature', 'star neighbors'])\n",
    "    for feature, neighbors in star_neighbors.items():\n",
    "        values_str = ' '.join(map(str, neighbors))\n",
    "        writer.writerow([feature, values_str])"
   ]
  },
  {
   "cell_type": "code",
   "execution_count": 13,
   "id": "ff105d95-b7a1-41a0-bff1-73a01540defc",
   "metadata": {},
   "outputs": [
    {
     "name": "stdout",
     "output_type": "stream",
     "text": [
      "Degree 2 Prevalent Patterns:\n",
      "(1, 2)\n",
      "(1, 3)\n",
      "(1, 4)\n",
      "(1, 5)\n",
      "(10, 6)\n",
      "(10, 7)\n",
      "(10, 8)\n",
      "(10, 9)\n",
      "(2, 3)\n",
      "(2, 4)\n",
      "(2, 5)\n",
      "(3, 4)\n",
      "(3, 5)\n",
      "(4, 5)\n",
      "(6, 7)\n",
      "(6, 8)\n",
      "(6, 9)\n",
      "(7, 8)\n",
      "(7, 9)\n",
      "(8, 9)\n",
      "Degree 3 Prevalent Patterns:\n",
      "(1, 2, 3)\n",
      "(1, 2, 4)\n",
      "(1, 2, 5)\n",
      "(1, 3, 4)\n",
      "(1, 3, 5)\n",
      "(1, 4, 5)\n",
      "(10, 6, 7)\n",
      "(10, 6, 8)\n",
      "(10, 6, 9)\n",
      "(10, 7, 8)\n",
      "(10, 7, 9)\n",
      "(10, 8, 9)\n",
      "(2, 3, 4)\n",
      "(2, 3, 5)\n",
      "(2, 4, 5)\n",
      "(3, 4, 5)\n",
      "(6, 7, 8)\n",
      "(6, 7, 9)\n",
      "(6, 8, 9)\n",
      "(7, 8, 9)\n",
      "Degree 4 Prevalent Patterns:\n",
      "(1, 2, 3, 4)\n",
      "(1, 2, 3, 5)\n",
      "(1, 2, 4, 5)\n",
      "(1, 3, 4, 5)\n",
      "(10, 6, 7, 8)\n",
      "(10, 6, 7, 9)\n",
      "(10, 6, 8, 9)\n",
      "(10, 7, 8, 9)\n",
      "(2, 3, 4, 5)\n",
      "(6, 7, 8, 9)\n",
      "Degree 5 Prevalent Patterns:\n",
      "(1, 2, 3, 4, 5)\n",
      "(10, 6, 7, 8, 9)\n"
     ]
    },
    {
     "data": {
      "text/plain": [
       "0"
      ]
     },
     "execution_count": 13,
     "metadata": {},
     "output_type": "execute_result"
    }
   ],
   "source": [
    "lib = ctypes.CDLL('c_functions.so')  # change according to where the shared cpp library is created\n",
    "lib.colocation_main(ctypes.c_double(prevalence_threshold))"
   ]
  },
  {
   "cell_type": "code",
   "execution_count": null,
   "id": "901fc623-3c84-46b1-a490-1c48d582eab8",
   "metadata": {},
   "outputs": [],
   "source": []
  }
 ],
 "metadata": {
  "kernelspec": {
   "display_name": "Python 3 (ipykernel)",
   "language": "python",
   "name": "python3"
  },
  "language_info": {
   "codemirror_mode": {
    "name": "ipython",
    "version": 3
   },
   "file_extension": ".py",
   "mimetype": "text/x-python",
   "name": "python",
   "nbconvert_exporter": "python",
   "pygments_lexer": "ipython3",
   "version": "3.10.5"
  }
 },
 "nbformat": 4,
 "nbformat_minor": 5
}
