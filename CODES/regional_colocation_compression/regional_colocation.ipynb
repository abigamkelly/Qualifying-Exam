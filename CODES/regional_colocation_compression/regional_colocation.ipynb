{
 "cells": [
  {
   "cell_type": "code",
   "execution_count": 1,
   "id": "6cda8231-534d-4791-84dc-0cb57f2263cd",
   "metadata": {},
   "outputs": [],
   "source": [
    "# g++ -O3 -shared -o c_functions.so -fPIC c_functions.cpp\n",
    "import pandas as pd\n",
    "import numpy as np\n",
    "import math\n",
    "import csv\n",
    "import ctypes\n",
    "import os\n",
    "import geopandas as gpd\n",
    "from rtree import index\n",
    "from itertools import combinations"
   ]
  },
  {
   "cell_type": "code",
   "execution_count": 2,
   "id": "a9c3216f-c5ae-47d7-9440-84e97251eda1",
   "metadata": {},
   "outputs": [],
   "source": [
    "# Parameters: These are the only things that need to be changed\n",
    "# prevalence_threshold, shapefile_path, directory_path\n",
    "with open('required_files/distance_threshold_parameter.txt', 'r') as file:   # file to read distance threshold path\n",
    "    distance_threshold = float(file.read())\n",
    "    \n",
    "prevalence_threshold = 0.55    # set the prevalence threshold\n",
    "# shapefile path to determine border points\n",
    "shapefile_path = 'real_world_data/NorthAmerica/shapefile'\n",
    "# path that holds the data (csv files of sub-regions)\n",
    "directory_path = 'real_world_data/NorthAmerica'"
   ]
  },
  {
   "cell_type": "code",
   "execution_count": 3,
   "id": "7902bc3a-a54d-4408-b5ec-cc399a9691df",
   "metadata": {},
   "outputs": [],
   "source": [
    "# This class holds the information and functions pertaining to each subregion\n",
    "class Subregion:\n",
    "    def __init__(self, data):\n",
    "        self.df = pd.DataFrame(data)\n",
    "        self.df['featureType'] = self.df['featureType'].astype(str)\n",
    "        self.featureInfo = {}  # Dictionary to store count, start row ID, and end row ID for each feature type\n",
    "        self.star_neighbors = {}  # Dictionary to store neighbors of different types within distance_threshold for each instance\n",
    "\n",
    "    # This function will calculate the feature ranges for each type of feature\n",
    "    def calc_feature_info(self, offset):\n",
    "        # Initialize variables to track count, start row ID, and end row ID\n",
    "        count = 0\n",
    "        start_row_id = 0\n",
    "        prev_feature = None\n",
    "        featureInfo = {}\n",
    "\n",
    "        # Iterate through the DataFrame\n",
    "        for i, row in self.df.iterrows():\n",
    "            feature = row['featureType']\n",
    "\n",
    "            # If feature type changes, update feature_info for the previous feature\n",
    "            if feature != prev_feature:\n",
    "                if prev_feature is not None:\n",
    "                    featureInfo[prev_feature] = {'count': count, 'start': start_row_id, 'end': i - 1}\n",
    "                count = 1\n",
    "                start_row_id = i\n",
    "                prev_feature = feature\n",
    "            else:\n",
    "                count += 1\n",
    "\n",
    "        # Update feature_info for the last feature\n",
    "        if prev_feature is not None:\n",
    "            featureInfo[prev_feature] = {'count': count, 'start': start_row_id, 'end': len(self.df) - 1 + offset}\n",
    "\n",
    "        # Check if the last feature only has one occurrence\n",
    "        if prev_feature is not None and count == 1:\n",
    "            featureInfo[prev_feature] = {'count': count, 'start': start_row_id, 'end': start_row_id}\n",
    "                \n",
    "        self.featureInfo = featureInfo\n",
    "        \n",
    "    # Calculates the distance between two points\n",
    "    def calc_distance(self, point1, point2):\n",
    "        x1, y1 = point1['xCoordinate'], point1['yCoordinate']\n",
    "        x2, y2 = point2['xCoordinate'], point2['yCoordinate']\n",
    "        return math.sqrt((x2 - x1)**2 + (y2 - y1)**2)\n",
    "    \n",
    "    # This function will calculate the star neighbors for each instance\n",
    "    def calc_star_neighbors(self, distance_threshold):\n",
    "        star_neighbors = {}\n",
    "        # Create a spatial index\n",
    "        idx = index.Index()\n",
    "        # Insert each point into the spatial index with its unique identifier\n",
    "        for i, row in self.df.iterrows():\n",
    "            x_coord = row['xCoordinate']\n",
    "            y_coord = row['yCoordinate']\n",
    "            idx.insert(i, (x_coord, y_coord, x_coord, y_coord))\n",
    "\n",
    "        # Iterate over each row in the DataFrame\n",
    "        for i, row in self.df.iterrows():\n",
    "            row_id = i\n",
    "            feature_type = row['featureType']\n",
    "            x_coord = row['xCoordinate']\n",
    "            y_coord = row['yCoordinate']\n",
    "\n",
    "            # Query the spatial index to find nearby points within the distance threshold\n",
    "            nearby_points = list(idx.intersection((x_coord - distance_threshold, \n",
    "                                                   y_coord - distance_threshold, \n",
    "                                                   x_coord + distance_threshold, \n",
    "                                                   y_coord + distance_threshold)))\n",
    "\n",
    "            # Filter neighbors based on distance and feature type, and ensure they are greater than the key\n",
    "            points_to_add = sorted([j for j in nearby_points if j != row_id and self.calc_distance(self.df.loc[j], self.df.loc[row_id]) <= distance_threshold and self.df.loc[j, 'featureType'] != feature_type and j > row_id])\n",
    "            # Store the nearby points in the dictionary\n",
    "            star_neighbors[row_id] = points_to_add\n",
    "            \n",
    "        self.star_neighbors = star_neighbors"
   ]
  },
  {
   "cell_type": "code",
   "execution_count": 4,
   "id": "69174bab-231f-4081-997a-7fe5aa90f0be",
   "metadata": {},
   "outputs": [
    {
     "data": {
      "text/plain": [
       "5"
      ]
     },
     "execution_count": 4,
     "metadata": {},
     "output_type": "execute_result"
    }
   ],
   "source": [
    "# Read in the data and calculate offsets\n",
    "subregions = []\n",
    "dataframes = []\n",
    "offsets = [0]\n",
    "number_subregions = 0\n",
    "for filename in os.listdir(directory_path):\n",
    "    if filename.endswith(\".csv\"):\n",
    "        file_path = os.path.join(directory_path, filename)\n",
    "        df = pd.read_csv(file_path)\n",
    "        df.index = range(offsets[number_subregions], offsets[number_subregions] + len(df))  # Apply the offset to the indices of the DataFrame\n",
    "        offsets.append(df.shape[number_subregions])  # Keeps track of offsets by storing in a list\n",
    "        subregions.append(Subregion(df))  # Store instance of the subregion class in a list\n",
    "        dataframes.append(df)  # Append the DataFrame to a list of DataFrames\n",
    "        number_subregions += 1\n",
    "        \n",
    "offsets.pop()  # Get rid of last offset because it is not needed"
   ]
  },
  {
   "cell_type": "code",
   "execution_count": 5,
   "id": "d7dd2052-cdc6-4ba7-b162-203a5804eecd",
   "metadata": {},
   "outputs": [],
   "source": [
    "# calculate the featureInfo, star_neighbors and write to files\n",
    "for i in range(len(subregions)):\n",
    "    subregions[i].calc_feature_info(offsets[i])\n",
    "    subregions[i].calc_star_neighbors(distance_threshold)\n",
    "    subregions[i].features = subregions[i].featureInfo.keys()\n",
    "    \n",
    "    # write the featureInfo to a csv file\n",
    "    with open('required_files/featureInfo/featureInfo' + str(i) + '.csv', 'w', newline='') as csvfile:\n",
    "        writer = csv.writer(csvfile)\n",
    "        writer.writerow(['feature', 'count', 'start', 'end'])\n",
    "        for feature, values in subregions[i].featureInfo.items():\n",
    "            writer.writerow([feature, values['count'], values['start'], values['end']])\n",
    "            \n",
    "    # write the star_neighbor to a csv file\n",
    "    with open('required_files/starNeighbors/starNeighbors' + str(i) + '.csv', 'w', newline='') as csvfile:\n",
    "        writer = csv.writer(csvfile)\n",
    "        writer.writerow(['feature', 'star neighbors'])\n",
    "        for feature, neighbors in subregions[i].star_neighbors.items():\n",
    "            values_str = ' '.join(map(str, neighbors))\n",
    "            writer.writerow([feature, values_str])"
   ]
  },
  {
   "cell_type": "code",
   "execution_count": 6,
   "id": "5aa26df9-f62c-484d-90d3-2fbf45004fe5",
   "metadata": {},
   "outputs": [],
   "source": [
    "# load cpp shared library\n",
    "lib = ctypes.CDLL('./c_functions.so')"
   ]
  },
  {
   "cell_type": "code",
   "execution_count": 7,
   "id": "d12209f9-19f3-4830-905a-77eb2036df09",
   "metadata": {},
   "outputs": [
    {
     "name": "stdout",
     "output_type": "stream",
     "text": [
      "Degree 2 Prevalent Patterns for Sub-Region 0:\n",
      "(0, 1)\n",
      "(0, 2)\n",
      "(0, 3)\n",
      "(0, 7)\n",
      "(1, 2)\n",
      "(1, 4)\n",
      "(1, 7)\n",
      "(2, 3)\n",
      "(2, 5)\n",
      "(2, 7)\n",
      "(3, 7)\n",
      "Degree 3 Prevalent Patterns for Sub-Region 0:\n",
      "(0, 1, 2)\n",
      "(0, 2, 3)\n",
      "(1, 2, 7)\n",
      "Degree 2 Prevalent Patterns for Sub-Region 1:\n",
      "(0, 1)\n",
      "(0, 2)\n",
      "(0, 6)\n",
      "(0, 8)\n",
      "(1, 6)\n",
      "(2, 6)\n",
      "(2, 8)\n",
      "(3, 5)\n"
     ]
    },
    {
     "data": {
      "text/plain": [
       "0"
      ]
     },
     "execution_count": 7,
     "metadata": {},
     "output_type": "execute_result"
    }
   ],
   "source": [
    "# calculate prevalent patterns for the sub-regions\n",
    "lib.subregion_main(ctypes.c_int(number_subregions), ctypes.c_double(prevalence_threshold))"
   ]
  },
  {
   "cell_type": "code",
   "execution_count": 8,
   "id": "0fb6ca70-283d-4b32-ab51-a56806438fbc",
   "metadata": {},
   "outputs": [],
   "source": [
    "# This class holds the information pertaining to the border region\n",
    "class Border:\n",
    "    def __init__(self):\n",
    "        self.combined_df = pd.DataFrame()\n",
    "        self.border_df = pd.DataFrame()\n",
    "        self.featureInfo = {}\n",
    "        self.star_neighbors = {}\n",
    "        \n",
    "    # This function will calculate the feature ranges for each type of feature\n",
    "    def calc_feature_info(self):\n",
    "        # Initialize variables to track count, start row ID, and end row ID\n",
    "        count = 0\n",
    "        start_row_id = 0\n",
    "        prev_feature = None\n",
    "        featureInfo = {}\n",
    "\n",
    "        # Iterate through the DataFrame\n",
    "        for i, row in self.border_df.iterrows():\n",
    "            feature = row['featureType']\n",
    "\n",
    "            # If feature type changes, update feature_info for the previous feature\n",
    "            if feature != prev_feature:\n",
    "                if prev_feature is not None:\n",
    "                    featureInfo[prev_feature] = {'count': count, 'start': start_row_id, 'end': i - 1}\n",
    "                count = 1\n",
    "                start_row_id = i\n",
    "                prev_feature = feature\n",
    "            else:\n",
    "                count += 1\n",
    "\n",
    "        # Update feature_info for the last feature\n",
    "        if prev_feature is not None:\n",
    "            featureInfo[prev_feature] = {'count': count, 'start': start_row_id, 'end': len(self.border_df) - 1}\n",
    "\n",
    "        # Check if the last feature only has one occurrence\n",
    "        if prev_feature is not None and count == 1:\n",
    "            featureInfo[prev_feature] = {'count': count, 'start': start_row_id, 'end': start_row_id}\n",
    "                \n",
    "        self.featureInfo = featureInfo\n",
    "        \n",
    "    def calc_distance(self, point1, point2):\n",
    "        x1, y1 = point1['xCoordinate'], point1['yCoordinate']\n",
    "        x2, y2 = point2['xCoordinate'], point2['yCoordinate']\n",
    "        return math.sqrt((x2 - x1)**2 + (y2 - y1)**2)\n",
    "        \n",
    "    # This function will calculate the star neighbors for each instance\n",
    "    def calc_star_neighbors(self, distance_threshold):\n",
    "        star_neighbors = {}\n",
    "        # Create a spatial index\n",
    "        idx = index.Index()\n",
    "        # Insert each point into the spatial index with its unique identifier\n",
    "        for i, row in self.border_df.iterrows():\n",
    "            x_coord = row['xCoordinate']\n",
    "            y_coord = row['yCoordinate']\n",
    "            idx.insert(i, (x_coord, y_coord, x_coord, y_coord))\n",
    "\n",
    "        # Iterate over each row in the DataFrame\n",
    "        for i, row in self.border_df.iterrows():\n",
    "            row_id = i\n",
    "            feature_type = row['featureType']\n",
    "            x_coord = row['xCoordinate']\n",
    "            y_coord = row['yCoordinate']\n",
    "\n",
    "            # Query the spatial index to find nearby points within the distance threshold\n",
    "            nearby_points = list(idx.intersection((x_coord - distance_threshold, y_coord - distance_threshold, x_coord + distance_threshold, y_coord + distance_threshold)))\n",
    "\n",
    "            # Filter neighbors based on distance and feature type, and ensure they are greater than the key\n",
    "            points_to_add = sorted([j for j in nearby_points if j != row_id and self.calc_distance(self.border_df.loc[j], self.border_df.loc[row_id]) <= distance_threshold and \n",
    "                                    self.border_df.loc[j, 'featureType'] != feature_type and j > row_id])\n",
    "            # Store the nearby points in the dictionary\n",
    "            star_neighbors[row_id] = points_to_add\n",
    "            \n",
    "        self.star_neighbors = star_neighbors"
   ]
  },
  {
   "cell_type": "code",
   "execution_count": 9,
   "id": "f78221a5-ee00-48ff-b20b-7f6fc6c5322e",
   "metadata": {},
   "outputs": [],
   "source": [
    "border = Border()\n",
    "border.combined_df = pd.concat(dataframes, ignore_index=True)  # combine the Dataframes\n",
    "border.combined_df['ID'] = border.combined_df.index\n",
    "\n",
    "# sort the df by featureType\n",
    "border.combined_df = border.combined_df.sort_values(by='featureType', ignore_index=True)"
   ]
  },
  {
   "cell_type": "code",
   "execution_count": 10,
   "id": "857e5144-916f-4bff-a31e-a58f7c05458c",
   "metadata": {},
   "outputs": [],
   "source": [
    "# read the shapefile\n",
    "shapefile = gpd.read_file(shapefile_path)\n",
    "points = np.array(border.combined_df[['latitude', 'longitude']])\n",
    "points_gdf = gpd.GeoDataFrame(geometry=gpd.points_from_xy(points[:, 1], points[:, 0]))\n",
    "points_gdf = points_gdf.set_crs(\"EPSG:4326\")\n",
    "shapefile = shapefile.to_crs(\"EPSG:4326\")"
   ]
  },
  {
   "cell_type": "code",
   "execution_count": 11,
   "id": "f8d84d15-ae1a-448d-adbb-27c988186c06",
   "metadata": {},
   "outputs": [],
   "source": [
    "# find the border instances\n",
    "featureType = []\n",
    "x = []\n",
    "y = []\n",
    "ID = []\n",
    "curr_index = 0\n",
    "for point in points_gdf.geometry:\n",
    "    # Convert radius from kilometers to degrees (assuming a spherical Earth)\n",
    "    radius_deg = distance_threshold / 111.32  # Approximately 111.32 km per degree of latitude\n",
    "    # Create a circle geometry\n",
    "    circle = point.buffer(radius_deg)\n",
    "    \n",
    "    # Find the borders that the point intersects\n",
    "    intersected_borders = [border for border in shapefile['geometry'] if circle.intersects(border)]\n",
    "    \n",
    "    if len(intersected_borders) >= 2:\n",
    "        featureType.append(border.combined_df['featureType'].iloc[curr_index])\n",
    "        x.append(border.combined_df['xCoordinate'].iloc[curr_index])\n",
    "        y.append(border.combined_df['yCoordinate'].iloc[curr_index])\n",
    "        ID.append(border.combined_df['ID'].iloc[curr_index])\n",
    "    curr_index += 1"
   ]
  },
  {
   "cell_type": "code",
   "execution_count": 12,
   "id": "a64ad07e-6b13-44a0-b6c6-f4202fa5369d",
   "metadata": {},
   "outputs": [],
   "source": [
    "border.border_df = pd.DataFrame({\n",
    "    'featureType': featureType,\n",
    "    'xCoordinate': x,\n",
    "    'yCoordinate': y,\n",
    "    'ID': ID})"
   ]
  },
  {
   "cell_type": "code",
   "execution_count": 13,
   "id": "9124ac08-760d-4614-8a6f-cd949c44a2e5",
   "metadata": {},
   "outputs": [
    {
     "data": {
      "text/html": [
       "<div>\n",
       "<style scoped>\n",
       "    .dataframe tbody tr th:only-of-type {\n",
       "        vertical-align: middle;\n",
       "    }\n",
       "\n",
       "    .dataframe tbody tr th {\n",
       "        vertical-align: top;\n",
       "    }\n",
       "\n",
       "    .dataframe thead th {\n",
       "        text-align: right;\n",
       "    }\n",
       "</style>\n",
       "<table border=\"1\" class=\"dataframe\">\n",
       "  <thead>\n",
       "    <tr style=\"text-align: right;\">\n",
       "      <th></th>\n",
       "      <th>featureType</th>\n",
       "      <th>xCoordinate</th>\n",
       "      <th>yCoordinate</th>\n",
       "      <th>ID</th>\n",
       "    </tr>\n",
       "  </thead>\n",
       "  <tbody>\n",
       "    <tr>\n",
       "      <th>0</th>\n",
       "      <td>0</td>\n",
       "      <td>-13004.57470</td>\n",
       "      <td>3613.132698</td>\n",
       "      <td>2918</td>\n",
       "    </tr>\n",
       "    <tr>\n",
       "      <th>1</th>\n",
       "      <td>0</td>\n",
       "      <td>-13004.57470</td>\n",
       "      <td>3613.132698</td>\n",
       "      <td>2917</td>\n",
       "    </tr>\n",
       "    <tr>\n",
       "      <th>2</th>\n",
       "      <td>0</td>\n",
       "      <td>-13004.57470</td>\n",
       "      <td>3613.132698</td>\n",
       "      <td>2916</td>\n",
       "    </tr>\n",
       "    <tr>\n",
       "      <th>3</th>\n",
       "      <td>0</td>\n",
       "      <td>-13004.57503</td>\n",
       "      <td>3613.132809</td>\n",
       "      <td>2915</td>\n",
       "    </tr>\n",
       "    <tr>\n",
       "      <th>4</th>\n",
       "      <td>0</td>\n",
       "      <td>-13004.57503</td>\n",
       "      <td>3613.132809</td>\n",
       "      <td>2914</td>\n",
       "    </tr>\n",
       "    <tr>\n",
       "      <th>...</th>\n",
       "      <td>...</td>\n",
       "      <td>...</td>\n",
       "      <td>...</td>\n",
       "      <td>...</td>\n",
       "    </tr>\n",
       "    <tr>\n",
       "      <th>85</th>\n",
       "      <td>6</td>\n",
       "      <td>-10842.13160</td>\n",
       "      <td>2874.623141</td>\n",
       "      <td>3517</td>\n",
       "    </tr>\n",
       "    <tr>\n",
       "      <th>86</th>\n",
       "      <td>6</td>\n",
       "      <td>-13004.57470</td>\n",
       "      <td>3613.132698</td>\n",
       "      <td>3423</td>\n",
       "    </tr>\n",
       "    <tr>\n",
       "      <th>87</th>\n",
       "      <td>6</td>\n",
       "      <td>-12180.44382</td>\n",
       "      <td>3482.860836</td>\n",
       "      <td>3510</td>\n",
       "    </tr>\n",
       "    <tr>\n",
       "      <th>88</th>\n",
       "      <td>6</td>\n",
       "      <td>-13004.57470</td>\n",
       "      <td>3613.132698</td>\n",
       "      <td>3424</td>\n",
       "    </tr>\n",
       "    <tr>\n",
       "      <th>89</th>\n",
       "      <td>7</td>\n",
       "      <td>-11982.21741</td>\n",
       "      <td>3588.047345</td>\n",
       "      <td>2858</td>\n",
       "    </tr>\n",
       "  </tbody>\n",
       "</table>\n",
       "<p>90 rows × 4 columns</p>\n",
       "</div>"
      ],
      "text/plain": [
       "   featureType  xCoordinate  yCoordinate    ID\n",
       "0            0 -13004.57470  3613.132698  2918\n",
       "1            0 -13004.57470  3613.132698  2917\n",
       "2            0 -13004.57470  3613.132698  2916\n",
       "3            0 -13004.57503  3613.132809  2915\n",
       "4            0 -13004.57503  3613.132809  2914\n",
       "..         ...          ...          ...   ...\n",
       "85           6 -10842.13160  2874.623141  3517\n",
       "86           6 -13004.57470  3613.132698  3423\n",
       "87           6 -12180.44382  3482.860836  3510\n",
       "88           6 -13004.57470  3613.132698  3424\n",
       "89           7 -11982.21741  3588.047345  2858\n",
       "\n",
       "[90 rows x 4 columns]"
      ]
     },
     "execution_count": 13,
     "metadata": {},
     "output_type": "execute_result"
    }
   ],
   "source": [
    "border.border_df"
   ]
  },
  {
   "cell_type": "code",
   "execution_count": 14,
   "id": "35f73c69-833f-4eb0-a8f6-b3824aec6a3f",
   "metadata": {},
   "outputs": [],
   "source": [
    "ids = border.border_df['ID'].to_list()  # store the IDs from the Dataframe in a list"
   ]
  },
  {
   "cell_type": "code",
   "execution_count": 15,
   "id": "fe88f735-6333-4283-bf19-bad6968f725f",
   "metadata": {},
   "outputs": [],
   "source": [
    "# calculate featureInfo, star_neighbors for the border region and write to file\n",
    "border.calc_feature_info()\n",
    "# write the featureInfo to a csv file\n",
    "with open('required_files/border_featureInfo/featureInfo.csv', 'w', newline='') as csvfile:\n",
    "    writer = csv.writer(csvfile)\n",
    "    writer.writerow(['feature', 'count', 'start', 'end'])\n",
    "    for feature, values in border.featureInfo.items():\n",
    "        writer.writerow([feature, values['count'], values['start'], values['end']])\n",
    "        \n",
    "border.calc_star_neighbors(distance_threshold)\n",
    "# write the star_neighbor to a csv file\n",
    "with open('required_files/border_starNeighbors/starNeighbors.csv', 'w', newline='') as csvfile:\n",
    "    writer = csv.writer(csvfile)\n",
    "    writer.writerow(['feature', 'star neighbors'])\n",
    "    for feature, neighbors in border.star_neighbors.items():\n",
    "        values_str = ' '.join(map(str, neighbors))\n",
    "        writer.writerow([feature, values_str])"
   ]
  },
  {
   "cell_type": "code",
   "execution_count": 16,
   "id": "d02a4abe-3663-43c8-abeb-3bf98f878245",
   "metadata": {},
   "outputs": [
    {
     "name": "stdout",
     "output_type": "stream",
     "text": [
      "Degree 2 Prevalent Patterns for Border 0:\n",
      "(0, 1)\n",
      "(0, 2)\n",
      "(0, 3)\n",
      "(0, 6)\n",
      "(1, 2)\n",
      "(1, 3)\n",
      "(1, 6)\n",
      "(2, 3)\n",
      "(2, 6)\n",
      "(3, 6)\n"
     ]
    },
    {
     "data": {
      "text/plain": [
       "0"
      ]
     },
     "execution_count": 16,
     "metadata": {},
     "output_type": "execute_result"
    }
   ],
   "source": [
    "# calculate the degree 2 prevalent patterns for border region\n",
    "number_borders = 1\n",
    "lib.border_main(ctypes.c_int(number_borders), ctypes.c_double(prevalence_threshold))"
   ]
  },
  {
   "cell_type": "code",
   "execution_count": 17,
   "id": "9c4a9fcc-9dfa-4a51-8010-9e0eefe31e74",
   "metadata": {},
   "outputs": [
    {
     "data": {
      "text/plain": [
       "0"
      ]
     },
     "execution_count": 17,
     "metadata": {},
     "output_type": "execute_result"
    }
   ],
   "source": [
    "# update star_neighbors and featureInfo so that the original indices are used\n",
    "arr_len = len(ids)\n",
    "arr_type = ctypes.c_int * arr_len\n",
    "arr_c = arr_type(*ids)\n",
    "border_number = 0\n",
    "lib.update_border_info.argtypes = (ctypes.POINTER(ctypes.c_int), ctypes.c_int, ctypes.c_int)\n",
    "lib.update_border_info(arr_c, arr_len, border_number)"
   ]
  },
  {
   "cell_type": "code",
   "execution_count": 18,
   "id": "8e5b11f3-d546-485f-bb85-2dc5dcb606ba",
   "metadata": {
    "tags": []
   },
   "outputs": [
    {
     "data": {
      "text/plain": [
       "0"
      ]
     },
     "execution_count": 18,
     "metadata": {},
     "output_type": "execute_result"
    }
   ],
   "source": [
    "# combine the hashmaps for the subregions and border region\n",
    "lib.combine_hashmaps.argtypes = (ctypes.c_int, ctypes.c_int)\n",
    "lib.combine_hashmaps(number_subregions, number_borders)"
   ]
  },
  {
   "cell_type": "code",
   "execution_count": 19,
   "id": "1428f818-3216-40d8-b7ce-6c36bdfb1d19",
   "metadata": {
    "tags": []
   },
   "outputs": [
    {
     "data": {
      "text/plain": [
       "0"
      ]
     },
     "execution_count": 19,
     "metadata": {},
     "output_type": "execute_result"
    }
   ],
   "source": [
    "# combine the instance tables for the subregions and the border region\n",
    "lib.combine_instance_tables.argtypes = (ctypes.c_int, ctypes.c_int)\n",
    "lib.combine_instance_tables(number_subregions, number_borders)"
   ]
  },
  {
   "cell_type": "code",
   "execution_count": 20,
   "id": "c0927648-d3e1-4d45-9d60-8a6c8c9d30ed",
   "metadata": {},
   "outputs": [
    {
     "name": "stdout",
     "output_type": "stream",
     "text": [
      "Degree 2 Prevalent Patterns for Entire Region:\n",
      "(0, 1)\n",
      "(0, 2)\n",
      "(0, 3)\n",
      "(1, 2)\n",
      "(1, 6)\n",
      "(2, 3)\n",
      "(2, 5)\n",
      "(2, 7)\n",
      "Degree 3 Prevalent Patterns for Entire Region:\n",
      "(0, 1, 2)\n",
      "(0, 2, 3)\n"
     ]
    },
    {
     "data": {
      "text/plain": [
       "0"
      ]
     },
     "execution_count": 20,
     "metadata": {},
     "output_type": "execute_result"
    }
   ],
   "source": [
    "# calculate prevalent patterns for entire region\n",
    "features = list(border.combined_df['featureType'].unique())\n",
    "string_ptrs = (ctypes.c_char_p * len(features))()\n",
    "string_ptrs[:] = [s.encode() for s in features]\n",
    "lib.region_main.argtypes = (ctypes.c_int, ctypes.c_double, ctypes.POINTER(ctypes.c_char_p), ctypes.c_int)\n",
    "lib.region_main(number_subregions, prevalence_threshold, string_ptrs, len(features))"
   ]
  },
  {
   "cell_type": "code",
   "execution_count": null,
   "id": "1a702b18-c306-4494-a9fd-53dad05b02cd",
   "metadata": {},
   "outputs": [],
   "source": []
  }
 ],
 "metadata": {
  "kernelspec": {
   "display_name": "Python 3 (ipykernel)",
   "language": "python",
   "name": "python3"
  },
  "language_info": {
   "codemirror_mode": {
    "name": "ipython",
    "version": 3
   },
   "file_extension": ".py",
   "mimetype": "text/x-python",
   "name": "python",
   "nbconvert_exporter": "python",
   "pygments_lexer": "ipython3",
   "version": "3.10.5"
  }
 },
 "nbformat": 4,
 "nbformat_minor": 5
}
